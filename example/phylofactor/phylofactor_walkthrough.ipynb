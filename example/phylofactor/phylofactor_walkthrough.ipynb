{
 "cells": [
  {
   "cell_type": "code",
   "execution_count": 1,
   "metadata": {},
   "outputs": [],
   "source": [
    "import qiime2\n",
    "from qiime2.plugins import phylofactor, feature_table\n",
    "import pandas as pd\n",
    "import biom\n",
    "from os.path import join\n",
    "from skbio.tree import TreeNode"
   ]
  },
  {
   "cell_type": "markdown",
   "metadata": {},
   "source": [
    "### Import Data"
   ]
  },
  {
   "cell_type": "code",
   "execution_count": 2,
   "metadata": {},
   "outputs": [],
   "source": [
    "home = '/Users/johnchase/dev/q2-phylofactor/q2_phylofactor/tests/data/'"
   ]
  },
  {
   "cell_type": "code",
   "execution_count": 3,
   "metadata": {},
   "outputs": [],
   "source": [
    "with open(join(home, 'asv_table.tsv')) as fh:\n",
    "    table = biom.Table.from_tsv(fh, None, None, None)\n",
    "data = qiime2.Artifact.import_data(\"FeatureTable[Frequency]\", table)\n",
    "tree = TreeNode.read(join(home, 'tree.nwk'))\n",
    "unrooted_tree = qiime2.Artifact.import_data('Phylogeny[Unrooted]', tree)\n",
    "metadata = qiime2.Metadata.load(join(home, 'metadata.tsv'))"
   ]
  },
  {
   "cell_type": "code",
   "execution_count": 4,
   "metadata": {},
   "outputs": [],
   "source": [
    "%%capture\n",
    "pf = phylofactor.methods.phylofactor(data, \n",
    "                                     unrooted_tree, \n",
    "                                     metadata, \n",
    "                                     family='binomial', \n",
    "                                     formula='Categorical~Data',\n",
    "                                     choice='F',\n",
    "                                     nfactors=3,\n",
    "                                     ncores=4)\n"
   ]
  },
  {
   "cell_type": "code",
   "execution_count": 7,
   "metadata": {},
   "outputs": [
    {
     "data": {
      "text/plain": [
       "(100, 3)"
      ]
     },
     "execution_count": 7,
     "metadata": {},
     "output_type": "execute_result"
    }
   ],
   "source": [
    "pf.basis.view(pd.DataFrame).shape"
   ]
  },
  {
   "cell_type": "code",
   "execution_count": 6,
   "metadata": {},
   "outputs": [
    {
     "ename": "FileNotFoundError",
     "evalue": "[Errno 2] No such file or directory: '../../q2_phylofactor/tests/data/s1_data.tsv'",
     "output_type": "error",
     "traceback": [
      "\u001b[0;31m---------------------------------------------------------------------------\u001b[0m",
      "\u001b[0;31mFileNotFoundError\u001b[0m                         Traceback (most recent call last)",
      "\u001b[0;32m<ipython-input-6-e2be0d1e05c2>\u001b[0m in \u001b[0;36m<module>\u001b[0;34m()\u001b[0m\n\u001b[1;32m      5\u001b[0m \u001b[0;32mfrom\u001b[0m \u001b[0mq2_types\u001b[0m\u001b[0;34m.\u001b[0m\u001b[0mtree\u001b[0m \u001b[0;32mimport\u001b[0m \u001b[0mNewickFormat\u001b[0m\u001b[0;34m\u001b[0m\u001b[0m\n\u001b[1;32m      6\u001b[0m \u001b[0;34m\u001b[0m\u001b[0m\n\u001b[0;32m----> 7\u001b[0;31m \u001b[0;32mwith\u001b[0m \u001b[0mopen\u001b[0m\u001b[0;34m(\u001b[0m\u001b[0;34m'../../q2_phylofactor/tests/data/s1_data.tsv'\u001b[0m\u001b[0;34m)\u001b[0m \u001b[0;32mas\u001b[0m \u001b[0mfh\u001b[0m\u001b[0;34m:\u001b[0m\u001b[0;34m\u001b[0m\u001b[0m\n\u001b[0m\u001b[1;32m      8\u001b[0m     \u001b[0mtable\u001b[0m \u001b[0;34m=\u001b[0m \u001b[0mbiom\u001b[0m\u001b[0;34m.\u001b[0m\u001b[0mTable\u001b[0m\u001b[0;34m.\u001b[0m\u001b[0mfrom_tsv\u001b[0m\u001b[0;34m(\u001b[0m\u001b[0mfh\u001b[0m\u001b[0;34m,\u001b[0m \u001b[0;32mNone\u001b[0m\u001b[0;34m,\u001b[0m \u001b[0;32mNone\u001b[0m\u001b[0;34m,\u001b[0m \u001b[0;32mNone\u001b[0m\u001b[0;34m)\u001b[0m\u001b[0;34m\u001b[0m\u001b[0m\n\u001b[1;32m      9\u001b[0m \u001b[0;34m\u001b[0m\u001b[0m\n",
      "\u001b[0;31mFileNotFoundError\u001b[0m: [Errno 2] No such file or directory: '../../q2_phylofactor/tests/data/s1_data.tsv'"
     ]
    }
   ],
   "source": [
    "import biom\n",
    "from skbio.tree import TreeNode\n",
    "import qiime2\n",
    "from q2_phylofactor import phylofactor\n",
    "from q2_types.tree import NewickFormat\n",
    "\n",
    "with open('../../q2_phylofactor/tests/data/s1_data.tsv') as fh:\n",
    "    table = biom.Table.from_tsv(fh, None, None, None)\n",
    "        \n",
    "        \n",
    "        \n",
    "phylogeny = NewickFormat('../../q2_phylofactor/tests/data/s1_tree.nwk', mode='r')\n",
    "sample_metadata = qiime2.Metadata.load('../../q2_phylofactor/tests/data/metadata.tsv')\n",
    "\n",
    "\n",
    "exp_factor_groups = pd.read_csv('../../q2_phylofactor/tests/data/expected/factor_groups.tsv', sep='\\t')\n",
    "\n",
    "factors, out_tree, factor_ratios, factor_groups = phylofactor(\n",
    "                                                    table,\n",
    "                                                    phylogeny,\n",
    "                                                    sample_metadata,\n",
    "                                                    formula='BodySite~Data',\n",
    "                                                    nfactors=3,\n",
    "                                                    family='binomial')\n"
   ]
  },
  {
   "cell_type": "code",
   "execution_count": null,
   "metadata": {},
   "outputs": [],
   "source": [
    "exp_factor_groups"
   ]
  },
  {
   "cell_type": "code",
   "execution_count": null,
   "metadata": {},
   "outputs": [],
   "source": [
    "factor_groups"
   ]
  },
  {
   "cell_type": "code",
   "execution_count": null,
   "metadata": {},
   "outputs": [],
   "source": [
    "pf.groups.view(pd.DataFrame)"
   ]
  },
  {
   "cell_type": "code",
   "execution_count": null,
   "metadata": {},
   "outputs": [],
   "source": [
    "qiime2.Artifact.load('../../q2_phylofactor/tests/data/s1_tree.nwk')"
   ]
  },
  {
   "cell_type": "code",
   "execution_count": null,
   "metadata": {},
   "outputs": [],
   "source": [
    "tree1 = TreeNode.read('../../q2_phylofactor/tests/data/s1_tree.nwk')\n",
    "tree2 = TreeNode.read('../../q2_phylofactor/tests/data/expected/pf_tree.nwk')"
   ]
  },
  {
   "cell_type": "code",
   "execution_count": null,
   "metadata": {},
   "outputs": [],
   "source": [
    "TreeNode.compare_rfd(tree2)"
   ]
  },
  {
   "cell_type": "code",
   "execution_count": null,
   "metadata": {},
   "outputs": [],
   "source": [
    "TreeNode.compare_rfd?"
   ]
  },
  {
   "cell_type": "code",
   "execution_count": null,
   "metadata": {},
   "outputs": [],
   "source": [
    "pd.read_csv('../../q2_phylofactor/tests/data/asv_table.tsv', sep='\\t', index_col=0)"
   ]
  },
  {
   "cell_type": "code",
   "execution_count": null,
   "metadata": {},
   "outputs": [],
   "source": [
    "pd.read_csv('../../q2_phylofactor/tests/data/metadata.tsv', sep='\\t', index_col=0)"
   ]
  },
  {
   "cell_type": "code",
   "execution_count": null,
   "metadata": {},
   "outputs": [],
   "source": [
    "from biota.util import rarefy"
   ]
  },
  {
   "cell_type": "code",
   "execution_count": null,
   "metadata": {},
   "outputs": [],
   "source": [
    "pd.__version__ "
   ]
  },
  {
   "cell_type": "code",
   "execution_count": null,
   "metadata": {},
   "outputs": [],
   "source": []
  }
 ],
 "metadata": {
  "kernelspec": {
   "display_name": "Python [conda env:qiime2-2018.6]",
   "language": "python",
   "name": "conda-env-qiime2-2018.6-py"
  },
  "language_info": {
   "codemirror_mode": {
    "name": "ipython",
    "version": 3
   },
   "file_extension": ".py",
   "mimetype": "text/x-python",
   "name": "python",
   "nbconvert_exporter": "python",
   "pygments_lexer": "ipython3",
   "version": "3.5.5"
  }
 },
 "nbformat": 4,
 "nbformat_minor": 2
}
