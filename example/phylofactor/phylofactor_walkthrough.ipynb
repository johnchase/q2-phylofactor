{
 "cells": [
  {
   "cell_type": "code",
   "execution_count": null,
   "metadata": {},
   "outputs": [],
   "source": [
    "%%capture\n",
    "!wget -O \"sample-metadata.tsv\" \"https://data.qiime2.org/2018.4/tutorials/moving-pictures/sample_metadata.tsv\"\n",
    "!wget -O \"table-dada2.qza\" \"https://docs.qiime2.org/2018.4/data/tutorials/moving-pictures/table-dada2.qza\"\n",
    "!wget -O \"unrooted-tree.qza\" \"https://docs.qiime2.org/2018.4/data/tutorials/moving-pictures/unrooted-tree.qza\""
   ]
  },
  {
   "cell_type": "code",
   "execution_count": null,
   "metadata": {},
   "outputs": [],
   "source": [
    "import qiime2\n",
    "from qiime2.plugins import phylofactor, feature_table\n",
    "import pandas as pd"
   ]
  },
  {
   "cell_type": "markdown",
   "metadata": {},
   "source": [
    "### Import Data"
   ]
  },
  {
   "cell_type": "code",
   "execution_count": null,
   "metadata": {},
   "outputs": [],
   "source": [
    "data = qiime2.Artifact.load('table-dada2.qza')\n",
    "unrooted_tree = qiime2.Artifact.load('unrooted-tree.qza')\n",
    "metadata = qiime2.Metadata.load('sample-metadata.tsv')"
   ]
  },
  {
   "cell_type": "code",
   "execution_count": 4,
   "metadata": {},
   "outputs": [],
   "source": [
    "%%capture\n",
    "pf = phylofactor.methods.phylofactor(data, \n",
    "                                     unrooted_tree, \n",
    "                                     metadata, \n",
    "                                     family='binomial', \n",
    "                                     formula='Subject~Data',\n",
    "                                     choice='F',\n",
    "                                     nfactors=2,\n",
    "                                     ncores=4)\n"
   ]
  },
  {
   "cell_type": "code",
   "execution_count": 33,
   "metadata": {},
   "outputs": [
    {
     "name": "stdout",
     "output_type": "stream",
     "text": [
      "Running Commands\n",
      "Running external command line application(s). This may print messages to stdout and/or stderr.\n",
      "The command(s) being run are below. These commands cannot be manually re-run as they will depend on temporary files that no longer exist.\n",
      "\n",
      "Command: run_phylofactor.R /var/folders/h9/sy3k4xgs0qgg9n6prlk_fj2c0000gn/T/tmp764mrh8j/table.tsv ../../q2_phylofactor/tests/data/s1_tree.nwk /var/folders/h9/sy3k4xgs0qgg9n6prlk_fj2c0000gn/T/tmp764mrh8j/metadata.tsv binomial BodySite~Data F 3 1 /var/folders/h9/sy3k4xgs0qgg9n6prlk_fj2c0000gn/T/tmp764mrh8j/out_table.tsv /var/folders/h9/sy3k4xgs0qgg9n6prlk_fj2c0000gn/T/tmp764mrh8j/tree.nwk /var/folders/h9/sy3k4xgs0qgg9n6prlk_fj2c0000gn/T/tmp764mrh8j/factor_ratios.tsv /var/folders/h9/sy3k4xgs0qgg9n6prlk_fj2c0000gn/T/tmp764mrh8j/factors.tsv\n",
      "\n"
     ]
    }
   ],
   "source": [
    "import biom\n",
    "from skbio.tree import TreeNode\n",
    "import qiime2\n",
    "from q2_phylofactor import phylofactor\n",
    "from q2_types.tree import NewickFormat\n",
    "\n",
    "with open('../../q2_phylofactor/tests/data/s1_data.tsv') as fh:\n",
    "    table = biom.Table.from_tsv(fh, None, None, None)\n",
    "        \n",
    "        \n",
    "        \n",
    "phylogeny = NewickFormat('../../q2_phylofactor/tests/data/s1_tree.nwk', mode='r')\n",
    "sample_metadata = qiime2.Metadata.load('../../q2_phylofactor/tests/data/metadata.tsv')\n",
    "\n",
    "\n",
    "exp_factor_groups = pd.read_csv('../../q2_phylofactor/tests/data/expected/factor_groups.tsv', sep='\\t')\n",
    "\n",
    "factors, out_tree, factor_ratios, factor_groups = phylofactor(\n",
    "                                                    table,\n",
    "                                                    phylogeny,\n",
    "                                                    sample_metadata,\n",
    "                                                    formula='BodySite~Data',\n",
    "                                                    nfactors=3,\n",
    "                                                    family='binomial')\n"
   ]
  },
  {
   "cell_type": "code",
   "execution_count": 34,
   "metadata": {},
   "outputs": [
    {
     "data": {
      "text/html": [
       "<div>\n",
       "<style scoped>\n",
       "    .dataframe tbody tr th:only-of-type {\n",
       "        vertical-align: middle;\n",
       "    }\n",
       "\n",
       "    .dataframe tbody tr th {\n",
       "        vertical-align: top;\n",
       "    }\n",
       "\n",
       "    .dataframe thead th {\n",
       "        text-align: right;\n",
       "    }\n",
       "</style>\n",
       "<table border=\"1\" class=\"dataframe\">\n",
       "  <thead>\n",
       "    <tr style=\"text-align: right;\">\n",
       "      <th></th>\n",
       "      <th>Group1</th>\n",
       "      <th>Group2</th>\n",
       "      <th>F</th>\n",
       "      <th>Pr(&gt;F)</th>\n",
       "    </tr>\n",
       "  </thead>\n",
       "  <tbody>\n",
       "    <tr>\n",
       "      <th>Factor 1</th>\n",
       "      <td>3 member Monophyletic clade</td>\n",
       "      <td>756 member Monophyletic clade</td>\n",
       "      <td>1.396556e+12</td>\n",
       "      <td>0</td>\n",
       "    </tr>\n",
       "    <tr>\n",
       "      <th>Factor 2</th>\n",
       "      <td>3 member Monophyletic clade</td>\n",
       "      <td>753 member Paraphyletic clade</td>\n",
       "      <td>1.350827e+12</td>\n",
       "      <td>0</td>\n",
       "    </tr>\n",
       "    <tr>\n",
       "      <th>Factor 3</th>\n",
       "      <td>tip</td>\n",
       "      <td>752 member Paraphyletic clade</td>\n",
       "      <td>1.188219e+12</td>\n",
       "      <td>0</td>\n",
       "    </tr>\n",
       "  </tbody>\n",
       "</table>\n",
       "</div>"
      ],
      "text/plain": [
       "                               Group1                         Group2  \\\n",
       "Factor 1  3 member Monophyletic clade  756 member Monophyletic clade   \n",
       "Factor 2  3 member Monophyletic clade  753 member Paraphyletic clade   \n",
       "Factor 3                          tip  752 member Paraphyletic clade   \n",
       "\n",
       "                     F  Pr(>F)  \n",
       "Factor 1  1.396556e+12       0  \n",
       "Factor 2  1.350827e+12       0  \n",
       "Factor 3  1.188219e+12       0  "
      ]
     },
     "execution_count": 34,
     "metadata": {},
     "output_type": "execute_result"
    }
   ],
   "source": [
    "exp_factor_groups"
   ]
  },
  {
   "cell_type": "code",
   "execution_count": 35,
   "metadata": {},
   "outputs": [
    {
     "data": {
      "text/html": [
       "<div>\n",
       "<style scoped>\n",
       "    .dataframe tbody tr th:only-of-type {\n",
       "        vertical-align: middle;\n",
       "    }\n",
       "\n",
       "    .dataframe tbody tr th {\n",
       "        vertical-align: top;\n",
       "    }\n",
       "\n",
       "    .dataframe thead th {\n",
       "        text-align: right;\n",
       "    }\n",
       "</style>\n",
       "<table border=\"1\" class=\"dataframe\">\n",
       "  <thead>\n",
       "    <tr style=\"text-align: right;\">\n",
       "      <th></th>\n",
       "      <th>Group1</th>\n",
       "      <th>Group2</th>\n",
       "      <th>F</th>\n",
       "      <th>Pr(&gt;F)</th>\n",
       "    </tr>\n",
       "  </thead>\n",
       "  <tbody>\n",
       "    <tr>\n",
       "      <th>Factor 1</th>\n",
       "      <td>3 member Monophyletic clade</td>\n",
       "      <td>756 member Monophyletic clade</td>\n",
       "      <td>1.396556e+12</td>\n",
       "      <td>0</td>\n",
       "    </tr>\n",
       "    <tr>\n",
       "      <th>Factor 2</th>\n",
       "      <td>3 member Monophyletic clade</td>\n",
       "      <td>753 member Paraphyletic clade</td>\n",
       "      <td>1.350827e+12</td>\n",
       "      <td>0</td>\n",
       "    </tr>\n",
       "    <tr>\n",
       "      <th>Factor 3</th>\n",
       "      <td>tip</td>\n",
       "      <td>752 member Paraphyletic clade</td>\n",
       "      <td>1.188219e+12</td>\n",
       "      <td>0</td>\n",
       "    </tr>\n",
       "  </tbody>\n",
       "</table>\n",
       "</div>"
      ],
      "text/plain": [
       "                               Group1                         Group2  \\\n",
       "Factor 1  3 member Monophyletic clade  756 member Monophyletic clade   \n",
       "Factor 2  3 member Monophyletic clade  753 member Paraphyletic clade   \n",
       "Factor 3                          tip  752 member Paraphyletic clade   \n",
       "\n",
       "                     F  Pr(>F)  \n",
       "Factor 1  1.396556e+12       0  \n",
       "Factor 2  1.350827e+12       0  \n",
       "Factor 3  1.188219e+12       0  "
      ]
     },
     "execution_count": 35,
     "metadata": {},
     "output_type": "execute_result"
    }
   ],
   "source": [
    "factor_groups"
   ]
  },
  {
   "cell_type": "code",
   "execution_count": 29,
   "metadata": {},
   "outputs": [
    {
     "ename": "SyntaxError",
     "evalue": "invalid syntax (<ipython-input-29-00e665ffe453>, line 1)",
     "output_type": "error",
     "traceback": [
      "\u001b[0;36m  File \u001b[0;32m\"<ipython-input-29-00e665ffe453>\"\u001b[0;36m, line \u001b[0;32m1\u001b[0m\n\u001b[0;31m    qiime2.\u001b[0m\n\u001b[0m           ^\u001b[0m\n\u001b[0;31mSyntaxError\u001b[0m\u001b[0;31m:\u001b[0m invalid syntax\n"
     ]
    }
   ],
   "source": [
    "qiime2."
   ]
  },
  {
   "cell_type": "code",
   "execution_count": null,
   "metadata": {},
   "outputs": [],
   "source": [
    "qiime2.Artifact.load('../../q2_phylofactor/tests/data/s1_tree.nwk')"
   ]
  },
  {
   "cell_type": "code",
   "execution_count": 36,
   "metadata": {},
   "outputs": [],
   "source": [
    "def foo():\n",
    "    return 'a', 'b'"
   ]
  },
  {
   "cell_type": "code",
   "execution_count": 39,
   "metadata": {},
   "outputs": [],
   "source": [
    "bar = foo()"
   ]
  },
  {
   "cell_type": "code",
   "execution_count": 41,
   "metadata": {},
   "outputs": [],
   "source": [
    "a, b = bar"
   ]
  },
  {
   "cell_type": "code",
   "execution_count": 42,
   "metadata": {},
   "outputs": [
    {
     "data": {
      "text/plain": [
       "'a'"
      ]
     },
     "execution_count": 42,
     "metadata": {},
     "output_type": "execute_result"
    }
   ],
   "source": [
    "a"
   ]
  },
  {
   "cell_type": "code",
   "execution_count": null,
   "metadata": {},
   "outputs": [],
   "source": []
  }
 ],
 "metadata": {
  "kernelspec": {
   "display_name": "Python [conda env:qiime2-2018.4]",
   "language": "python",
   "name": "conda-env-qiime2-2018.4-py"
  },
  "language_info": {
   "codemirror_mode": {
    "name": "ipython",
    "version": 3
   },
   "file_extension": ".py",
   "mimetype": "text/x-python",
   "name": "python",
   "nbconvert_exporter": "python",
   "pygments_lexer": "ipython3",
   "version": "3.5.5"
  }
 },
 "nbformat": 4,
 "nbformat_minor": 2
}
