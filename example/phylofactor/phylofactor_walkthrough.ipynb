{
 "cells": [
  {
   "cell_type": "code",
   "execution_count": 1,
   "metadata": {},
   "outputs": [],
   "source": [
    "%%capture\n",
    "!wget -O \"sample-metadata.tsv\" \"https://data.qiime2.org/2018.4/tutorials/moving-pictures/sample_metadata.tsv\"\n",
    "!wget -O \"table-dada2.qza\" \"https://docs.qiime2.org/2018.4/data/tutorials/moving-pictures/table-dada2.qza\"\n",
    "!wget -O \"unrooted-tree.qza\" \"https://docs.qiime2.org/2018.4/data/tutorials/moving-pictures/unrooted-tree.qza\""
   ]
  },
  {
   "cell_type": "code",
   "execution_count": 2,
   "metadata": {},
   "outputs": [],
   "source": [
    "import qiime2\n",
    "from qiime2.plugins import phylofactor, feature_table\n",
    "import pandas as pd"
   ]
  },
  {
   "cell_type": "markdown",
   "metadata": {},
   "source": [
    "### Import Data"
   ]
  },
  {
   "cell_type": "code",
   "execution_count": 3,
   "metadata": {},
   "outputs": [],
   "source": [
    "data = qiime2.Artifact.load('table-dada2.qza')\n",
    "unrooted_tree = qiime2.Artifact.load('unrooted-tree.qza')\n",
    "metadata = qiime2.Metadata.load('sample-metadata.tsv')"
   ]
  },
  {
   "cell_type": "code",
   "execution_count": 4,
   "metadata": {},
   "outputs": [],
   "source": [
    "%%capture\n",
    "pf = phylofactor.methods.phylofactor(data, \n",
    "                                     unrooted_tree, \n",
    "                                     metadata, \n",
    "                                     family='binomial', \n",
    "                                     formula='Subject~Data',\n",
    "                                     choice='F',\n",
    "                                     nfactors=2,\n",
    "                                     ncores=4)\n"
   ]
  },
  {
   "cell_type": "code",
   "execution_count": 5,
   "metadata": {},
   "outputs": [
    {
     "data": {
      "text/html": [
       "<div>\n",
       "<style scoped>\n",
       "    .dataframe tbody tr th:only-of-type {\n",
       "        vertical-align: middle;\n",
       "    }\n",
       "\n",
       "    .dataframe tbody tr th {\n",
       "        vertical-align: top;\n",
       "    }\n",
       "\n",
       "    .dataframe thead th {\n",
       "        text-align: right;\n",
       "    }\n",
       "</style>\n",
       "<table border=\"1\" class=\"dataframe\">\n",
       "  <thead>\n",
       "    <tr style=\"text-align: right;\">\n",
       "      <th></th>\n",
       "      <th>L1S8</th>\n",
       "      <th>L1S57</th>\n",
       "      <th>L1S76</th>\n",
       "      <th>L1S105</th>\n",
       "      <th>L2S155</th>\n",
       "      <th>L2S175</th>\n",
       "      <th>L2S204</th>\n",
       "      <th>L2S222</th>\n",
       "      <th>L3S242</th>\n",
       "      <th>L3S294</th>\n",
       "      <th>...</th>\n",
       "      <th>L2S357</th>\n",
       "      <th>L2S382</th>\n",
       "      <th>L3S378</th>\n",
       "      <th>L4S63</th>\n",
       "      <th>L4S112</th>\n",
       "      <th>L4S137</th>\n",
       "      <th>L5S240</th>\n",
       "      <th>L6S20</th>\n",
       "      <th>L6S68</th>\n",
       "      <th>L6S93</th>\n",
       "    </tr>\n",
       "  </thead>\n",
       "  <tbody>\n",
       "    <tr>\n",
       "      <th>Factor_1</th>\n",
       "      <td>-0.329769</td>\n",
       "      <td>-0.457164</td>\n",
       "      <td>-0.428295</td>\n",
       "      <td>-0.445123</td>\n",
       "      <td>2.072353</td>\n",
       "      <td>0.659874</td>\n",
       "      <td>1.591403</td>\n",
       "      <td>0.399861</td>\n",
       "      <td>-0.103191</td>\n",
       "      <td>1.218590</td>\n",
       "      <td>...</td>\n",
       "      <td>-0.379062</td>\n",
       "      <td>-0.853672</td>\n",
       "      <td>-0.199675</td>\n",
       "      <td>-1.513501</td>\n",
       "      <td>-1.068572</td>\n",
       "      <td>-1.107967</td>\n",
       "      <td>-0.189649</td>\n",
       "      <td>-0.371594</td>\n",
       "      <td>-0.354277</td>\n",
       "      <td>-0.458622</td>\n",
       "    </tr>\n",
       "    <tr>\n",
       "      <th>Factor_2</th>\n",
       "      <td>-0.370899</td>\n",
       "      <td>-0.514182</td>\n",
       "      <td>-0.481713</td>\n",
       "      <td>-0.500640</td>\n",
       "      <td>-0.060211</td>\n",
       "      <td>-0.157706</td>\n",
       "      <td>-0.223902</td>\n",
       "      <td>0.665656</td>\n",
       "      <td>-0.116061</td>\n",
       "      <td>-0.287665</td>\n",
       "      <td>...</td>\n",
       "      <td>-0.426340</td>\n",
       "      <td>-0.960143</td>\n",
       "      <td>-0.224579</td>\n",
       "      <td>-1.016026</td>\n",
       "      <td>-1.201846</td>\n",
       "      <td>-1.246155</td>\n",
       "      <td>-0.213302</td>\n",
       "      <td>-0.417940</td>\n",
       "      <td>-0.398463</td>\n",
       "      <td>-0.515822</td>\n",
       "    </tr>\n",
       "  </tbody>\n",
       "</table>\n",
       "<p>2 rows × 34 columns</p>\n",
       "</div>"
      ],
      "text/plain": [
       "              L1S8     L1S57     L1S76    L1S105    L2S155    L2S175  \\\n",
       "Factor_1 -0.329769 -0.457164 -0.428295 -0.445123  2.072353  0.659874   \n",
       "Factor_2 -0.370899 -0.514182 -0.481713 -0.500640 -0.060211 -0.157706   \n",
       "\n",
       "            L2S204    L2S222    L3S242    L3S294    ...       L2S357  \\\n",
       "Factor_1  1.591403  0.399861 -0.103191  1.218590    ...    -0.379062   \n",
       "Factor_2 -0.223902  0.665656 -0.116061 -0.287665    ...    -0.426340   \n",
       "\n",
       "            L2S382    L3S378     L4S63    L4S112    L4S137    L5S240  \\\n",
       "Factor_1 -0.853672 -0.199675 -1.513501 -1.068572 -1.107967 -0.189649   \n",
       "Factor_2 -0.960143 -0.224579 -1.016026 -1.201846 -1.246155 -0.213302   \n",
       "\n",
       "             L6S20     L6S68     L6S93  \n",
       "Factor_1 -0.371594 -0.354277 -0.458622  \n",
       "Factor_2 -0.417940 -0.398463 -0.515822  \n",
       "\n",
       "[2 rows x 34 columns]"
      ]
     },
     "execution_count": 5,
     "metadata": {},
     "output_type": "execute_result"
    }
   ],
   "source": [
    "pf.factors.view(pd.DataFrame)"
   ]
  },
  {
   "cell_type": "code",
   "execution_count": 6,
   "metadata": {},
   "outputs": [
    {
     "data": {
      "text/html": [
       "<div>\n",
       "<style scoped>\n",
       "    .dataframe tbody tr th:only-of-type {\n",
       "        vertical-align: middle;\n",
       "    }\n",
       "\n",
       "    .dataframe tbody tr th {\n",
       "        vertical-align: top;\n",
       "    }\n",
       "\n",
       "    .dataframe thead th {\n",
       "        text-align: right;\n",
       "    }\n",
       "</style>\n",
       "<table border=\"1\" class=\"dataframe\">\n",
       "  <thead>\n",
       "    <tr style=\"text-align: right;\">\n",
       "      <th></th>\n",
       "      <th>factor</th>\n",
       "      <th>group</th>\n",
       "      <th>featureid</th>\n",
       "    </tr>\n",
       "  </thead>\n",
       "  <tbody>\n",
       "    <tr>\n",
       "      <th>0</th>\n",
       "      <td>1</td>\n",
       "      <td>1</td>\n",
       "      <td>724c43ad3632cb8c5c6230c874551bd2</td>\n",
       "    </tr>\n",
       "    <tr>\n",
       "      <th>1</th>\n",
       "      <td>1</td>\n",
       "      <td>1</td>\n",
       "      <td>62bf37c50994a06e6c8c93355ad1caa0</td>\n",
       "    </tr>\n",
       "    <tr>\n",
       "      <th>2</th>\n",
       "      <td>1</td>\n",
       "      <td>1</td>\n",
       "      <td>f8fe4ee0ae3da9a1432872f5545a0d42</td>\n",
       "    </tr>\n",
       "    <tr>\n",
       "      <th>3</th>\n",
       "      <td>1</td>\n",
       "      <td>1</td>\n",
       "      <td>35b6dde81c92eb7f66ca9f741da3514e</td>\n",
       "    </tr>\n",
       "    <tr>\n",
       "      <th>4</th>\n",
       "      <td>1</td>\n",
       "      <td>2</td>\n",
       "      <td>91d0b3b7c0329b9a164b6e04a181f1d6</td>\n",
       "    </tr>\n",
       "  </tbody>\n",
       "</table>\n",
       "</div>"
      ],
      "text/plain": [
       "   factor  group                         featureid\n",
       "0       1      1  724c43ad3632cb8c5c6230c874551bd2\n",
       "1       1      1  62bf37c50994a06e6c8c93355ad1caa0\n",
       "2       1      1  f8fe4ee0ae3da9a1432872f5545a0d42\n",
       "3       1      1  35b6dde81c92eb7f66ca9f741da3514e\n",
       "4       1      2  91d0b3b7c0329b9a164b6e04a181f1d6"
      ]
     },
     "execution_count": 6,
     "metadata": {},
     "output_type": "execute_result"
    }
   ],
   "source": [
    "pf.groups.view(pd.DataFrame)[:5]"
   ]
  },
  {
   "cell_type": "code",
   "execution_count": 7,
   "metadata": {},
   "outputs": [
    {
     "data": {
      "text/plain": [
       "<artifact: Phylogeny[Unrooted] uuid: 46bbbefb-9c59-4a82-8c29-1ba33ac39ef6>"
      ]
     },
     "execution_count": 7,
     "metadata": {},
     "output_type": "execute_result"
    }
   ],
   "source": [
    "pf.tree"
   ]
  }
 ],
 "metadata": {
  "kernelspec": {
   "display_name": "Python [conda env:qiime2-2018.4]",
   "language": "python",
   "name": "conda-env-qiime2-2018.4-py"
  },
  "language_info": {
   "codemirror_mode": {
    "name": "ipython",
    "version": 3
   },
   "file_extension": ".py",
   "mimetype": "text/x-python",
   "name": "python",
   "nbconvert_exporter": "python",
   "pygments_lexer": "ipython3",
   "version": "3.5.5"
  }
 },
 "nbformat": 4,
 "nbformat_minor": 2
}
